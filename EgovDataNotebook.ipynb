{
 "cells": [
  {
   "cell_type": "code",
   "execution_count": 2,
   "id": "2158a2ab",
   "metadata": {},
   "outputs": [],
   "source": [
    "import json\n",
    "import pandas as pd\n",
    "\n",
    "#Add path\n",
    "df = pd.read_csv('C:\\\\Users\\\\utkarsh.dixit\\\\Downloads\\\\Datasets\\\\egov\\\\EGOV_DATA_2020.csv')\n",
    "isoCountry = open('C:\\\\Users\\\\utkarsh.dixit\\\\Downloads\\\\Datasets\\\\Iso3CountryCodes.json',)\n",
    "countryDictionary = json.load(isoCountry)"
   ]
  },
  {
   "cell_type": "code",
   "execution_count": 12,
   "id": "d551a6d0",
   "metadata": {},
   "outputs": [],
   "source": [
    "source = \"EGOV_DATA_2020\"\n",
    "dataJson = df.to_json(orient=\"records\")\n",
    "json_object = json.loads(dataJson)\n",
    "\n",
    "#fetch unique year from the data\n",
    "uniqueYear=list(set([str(row['Survey Year']) for row in json_object]))\n",
    "\n",
    "data = {}\n",
    "\n",
    "#iterate over each datapoint, skip first 2\n",
    "for dataPoint in list(json_object[0].keys())[2:]:\n",
    "    data[dataPoint] = {\n",
    "        \"def\": '',\n",
    "        \"name\": dataPoint,\n",
    "        \"source\": 'UNDESA'\n",
    "    }\n",
    "    \n",
    "    subDictData = {\"data\":{}}\n",
    "    for year in uniqueYear:\n",
    "        subDictData[\"data\"].update([(year, {})])\n",
    "        for row in json_object:\n",
    "            if str(row['Survey Year']) == year:\n",
    "                if row['Country Name'].strip() == \"Côte d'Ivoire\":\n",
    "                    iso3Name = countryDictionary[\"Cote d'Ivoire\"]\n",
    "                else:\n",
    "                    iso3Name = countryDictionary[row['Country Name'].strip()]\n",
    "                subDictData[\"data\"][year].update(dict({iso3Name:row[dataPoint]}))\n",
    "        \n",
    "    subDictData[\"data\"].update([(\"recentValue\", {})])\n",
    "    subDictData[\"data\"].update([(\"recentYear\", {})])\n",
    "    data[dataPoint].update(subDictData)\n",
    "    recentYear = str(max(list(set([row['Survey Year'] for row in json_object]))))\n",
    "    \n",
    "    for row in json_object:\n",
    "        if str(row['Survey Year']) == recentYear:\n",
    "            if row['Country Name'].strip() == \"Côte d'Ivoire\":\n",
    "                iso3NameNew = countryDictionary[\"Cote d'Ivoire\"]\n",
    "            else:\n",
    "                iso3NameNew = countryDictionary[row['Country Name'].strip()]\n",
    "            subDictData[\"data\"][\"recentValue\"].update(dict({iso3NameNew:row[dataPoint]}))\n",
    "            subDictData[\"data\"][\"recentYear\"].update(dict({iso3NameNew:row['Survey Year']}))\n",
    "    \n",
    "json.dumps(data)\n",
    "\n",
    "out_file = open(\"EgovData.json\", \"w\")     \n",
    "json.dump(data, out_file, indent = 6) \n",
    "out_file.close()\n"
   ]
  },
  {
   "cell_type": "code",
   "execution_count": null,
   "id": "f8614e95",
   "metadata": {},
   "outputs": [],
   "source": []
  }
 ],
 "metadata": {
  "kernelspec": {
   "display_name": "Python 3 (ipykernel)",
   "language": "python",
   "name": "python3"
  },
  "language_info": {
   "codemirror_mode": {
    "name": "ipython",
    "version": 3
   },
   "file_extension": ".py",
   "mimetype": "text/x-python",
   "name": "python",
   "nbconvert_exporter": "python",
   "pygments_lexer": "ipython3",
   "version": "3.9.1"
  }
 },
 "nbformat": 4,
 "nbformat_minor": 5
}
